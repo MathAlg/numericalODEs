{
 "cells": [
  {
   "cell_type": "markdown",
   "metadata": {},
   "source": [
    "# Numerische Behandlung von gewöhnlichen Differentialgleichungen\n",
    "## Theoretische Grundlagen\n",
    "Eine (explizite) gewöhnliche Differentialgleichung ist von der Form $y\\prime=f(x,y)$, mit einer Funktion $f: \\mathbb{R}\\times\\mathbb{R}\\to\\mathbb{R}$. Es wird eine $Funktion$ $y: \\mathbb{R}\\to\\mathbb{R}$ gesucht, die einmal (stetig) differenzierbar ist und die DGL $y(x)\\prime=f(x,y(x))$ erfüllt. Da diese Aufgabe unendlich viele Lösungen haben kann, wird von einem sogenannten Anfagswertproblem (AWP) gesprochen, bei dem man zusätzlich die Bedingung aufstellt, dass die Funktion $y$ einen bestimmen Anfangswert $y_0$ (meist bei $x=0$) annimmt. Die zu betrachtende Aufgabe wird üblicherweise so gestellt:\n",
    "\n",
    "Finde ein $y\\in C^1([0,\\infty))$, sodass gilt:\n",
    "$$y(x)\\prime = f(x,y(x)),\\quad\\forall x\\in[0,\\infty) \\\\\n",
    "y(0) = y_0$$\n",
    "\n",
    "Je nachdem, welche Eigenschaften die rechte Seite $f$ hat, hat auch $y$ daraus ableitbare Eigenschaften (da $f$ direkte Auswirkung zumindest auf die Ableitung von $y$ hat). Sind die Eigenschaften von $f$ hinreichend gut, so ist die Aufgabe eindeutig lösbar. Ein Kriterium liefert der Satz von Picard-Lindelöf. Ist $f$ bzgl. der zweiten Variable (also die Funktion $y$) Lipschitz-stetig, so ist die Aufgabe eindeutig lösbar.\n",
    "\n",
    "Für $f$ der Form $f(x,y) = a(x)\\cdot y + b(x)$ heißt die DGL linear (falls b(x)=0 homogen, sonst inhomogen). Hängt $f$ nicht explizit von der freien Variable $x$ ab, so nennt man die DGL autonom. In diesem fall gilt für eine Lösung $y$, dass y(x-a) $(a\\in\\mathbb{R})$ ebenfalls Lösungen der DGL sind. \n",
    "\n",
    "### Beispiele\n",
    "\n",
    "$y\\prime = \\lambda\\cdot y$, $\\lambda\\in\\mathbb{R}$ $(f(x,y)=\\lambda\\cdot y)$ ist eindeutig lösbar\n",
    "\n",
    "$y\\prime = x\\cdot y$+x^2, $(f(x,y)= x\\cdot y+x^2)$ ist eindeutig lösbar\n",
    "\n",
    "$y\\prime = \\sin(y)$, $(f(x,y)=\\sin(y))$ ist eindeutig lösbar\n",
    "\n",
    "$y\\prime = \\sqrt{y}$, $(f(x,y)=\\sqrt{y})$ ist NICHT eindeutig lösbar\n",
    "\n",
    "## Stabilitätsverhalten von Lösungen von gewöhnlichen Differentialgleichungen\n",
    "\n",
    "Unter \"Stabilität\" einer Lösung ist ihr Langzeitverhalten zu verstehen, vorausgesetzt, das Existenzintervall ist ausreichend groß.\n",
    "Eine Lösung $y$ heißt stabil, wenn wir nur hinreichend nah am gegebenen Anfangswert starten müssen, sodass die \"fehlerbehaftete\" Lösung maximal $\\varepsilon$ von der echten Lösung entfernt ist (und das zu jeder Stelle $x$).\n",
    "In Formeln ausgedrückt bedeutet dies:\n",
    "\n",
    "$y$ stabil genau dann wenn: $\\forall\\varepsilon>0\\;\\exists\\delta>0: |y(0)-y_\\delta(0)|<\\delta \\Rightarrow |y(x)-y_\\delta(x)|<\\varepsilon (\\forall x\\geq 0)$, wobei $y_\\delta$ die Lösung der DGL mit dem um maximal $\\delta$ gestörten Anfangswert ist.\n",
    "\n",
    "Eine Lösung heißt asymptotisch stabil, falls der Fehler $|y(x)-y_\\delta(x)|$ für $x\\to\\infty$ gegen Null geht. Damit wäre eine asymptotisch stabile Lösung auch (normal) stabil.\n",
    "\n",
    "### Beispiele\n",
    "\n",
    "$y\\prime = 2\\,y$, $y(0) = y_0$. Die spezifische Lösung zu jedem Anfangswert ist instabil. Die Lösung zu diesem AWP ist $y(x) = y_0\\cdot e^{2x}$. Wird der Anfangswert um $\\delta>0$ gestört, ist die dazugehörige Lösung $y_\\delta(x) = (y_0+\\delta)\\cdot e^{2x}$, so gilt für die Differenz $|y(x)-y_\\delta(x)|= |\\delta e^{2x}|\\to\\infty (x\\to\\infty)$.\n",
    "\n",
    "$y\\prime = -2\\,y$, $y(0) = y_0$. Die spezifische Lösung zu jedem Anfangswert ist entgegen (sogar asymptotisch) stabil. Die Lösung zu diesem AWP ist $y(x) = y_0\\cdot e^{-2x}$. Wird der Anfangswert um $\\delta>0$ gestört, ist die dazugehörige Lösung $y_\\delta(x) = (y_0+\\delta)\\cdot e^{-2x}$, so gilt für die Differenz $|y(x)-y_\\delta(x)|= |\\delta e^{-2x}|\\to 0 (x\\to\\infty)$."
   ]
  },
  {
   "cell_type": "code",
   "execution_count": null,
   "metadata": {
    "collapsed": false
   },
   "outputs": [],
   "source": [
    "# import numpy and the ODE tool box\n",
    "\n",
    "import numpy as np\n",
    "import ode_toolbox as tb"
   ]
  },
  {
   "cell_type": "code",
   "execution_count": null,
   "metadata": {
    "collapsed": false
   },
   "outputs": [],
   "source": [
    "# create the right hand side of the equation y' = f(x,y)\n",
    "f  = lambda x,y: -12*y\n",
    "Df = lambda x,y: 0*y-12 # derivative of f in y for newton method\n",
    "\n",
    "# create variable of class 'ODE'\n",
    "var = tb.ODE(0,10,1,f,Df) # input: ODE(x0,xend,y0,RHS[,DRHS])\n",
    "\n",
    "# take a look at the direction fiel of the ODE\n",
    "var.directionField(0,10,0,10) # input: directionField(xmin,xmax,ymin,ymax [,nx,ny])"
   ]
  },
  {
   "cell_type": "code",
   "execution_count": null,
   "metadata": {
    "collapsed": false
   },
   "outputs": [],
   "source": [
    "# solve ODE with a Solver\n",
    "var.clear()\n",
    "var.solve(20,method='explE') # input: solve(n[,method])\n",
    "\n",
    "# look at solution\n",
    "var.show(directions='on')"
   ]
  },
  {
   "cell_type": "code",
   "execution_count": null,
   "metadata": {
    "collapsed": false
   },
   "outputs": [],
   "source": [
    "# clear calculated solutions...\n",
    "var.clear()\n",
    "\n",
    "# ...and start again with another solving processes\n",
    "var.solve(200,method='explE') \n",
    "var.solve(200,method='RK4')\n",
    "\n",
    "# look at solutions (now with additional direction field)\n",
    "var.show(directions='on')"
   ]
  },
  {
   "cell_type": "code",
   "execution_count": null,
   "metadata": {
    "collapsed": true
   },
   "outputs": [],
   "source": []
  }
 ],
 "metadata": {
  "kernelspec": {
   "display_name": "Python 3",
   "language": "python",
   "name": "python3"
  },
  "language_info": {
   "codemirror_mode": {
    "name": "ipython",
    "version": 3
   },
   "file_extension": ".py",
   "mimetype": "text/x-python",
   "name": "python",
   "nbconvert_exporter": "python",
   "pygments_lexer": "ipython3",
   "version": "3.6.0"
  }
 },
 "nbformat": 4,
 "nbformat_minor": 2
}
